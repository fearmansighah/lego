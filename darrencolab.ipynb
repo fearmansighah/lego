{
  "nbformat": 4,
  "nbformat_minor": 0,
  "metadata": {
    "colab": {
      "provenance": [],
      "collapsed_sections": [],
      "include_colab_link": true
    },
    "kernelspec": {
      "name": "python3",
      "display_name": "Python 3"
    },
    "language_info": {
      "name": "python"
    }
  },
  "cells": [
    {
      "cell_type": "markdown",
      "metadata": {
        "id": "view-in-github",
        "colab_type": "text"
      },
      "source": [
        "<a href=\"https://colab.research.google.com/github/fearmansighah/lego/blob/main/darrencolab.ipynb\" target=\"_parent\"><img src=\"https://colab.research.google.com/assets/colab-badge.svg\" alt=\"Open In Colab\"/></a>"
      ]
    },
    {
      "cell_type": "code",
      "execution_count": null,
      "metadata": {
        "id": "86LTr2K_ZeJr"
      },
      "outputs": [],
      "source": [
        "this is the first change"
      ]
    },
    {
      "cell_type": "markdown",
      "source": [
        "erwerw\n",
        "\n",
        "\n"
      ],
      "metadata": {
        "id": "ZYWVB2kbecEt"
      }
    }
  ]
}