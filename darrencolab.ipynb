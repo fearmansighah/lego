{
  "cells": [
    {
      "cell_type": "markdown",
      "metadata": {
        "colab_type": "text",
        "id": "view-in-github"
      },
      "source": [
        "<a href=\"https://colab.research.google.com/github/fearmansighah/lego/blob/main/darrencolab.ipynb\" target=\"_parent\"><img src=\"https://colab.research.google.com/assets/colab-badge.svg\" alt=\"Open In Colab\"/></a>"
      ]
    },
    {
      "cell_type": "code",
      "execution_count": null,
      "metadata": {
        "id": "86LTr2K_ZeJr"
      },
      "outputs": [],
      "source": [
        "print('new cow')"
      ]
    },
    {
      "cell_type": "markdown",
      "metadata": {
        "id": "ZYWVB2kbecEt"
      },
      "source": [
        "new markdown\n",
        "\n",
        "\n"
      ]
    }
  ],
  "metadata": {
    "colab": {
      "collapsed_sections": [],
      "include_colab_link": true,
      "provenance": []
    },
    "kernelspec": {
      "display_name": "Python 3.9.12 64-bit",
      "language": "python",
      "name": "python3"
    },
    "language_info": {
      "name": "python",
      "version": "3.9.12"
    },
    "vscode": {
      "interpreter": {
        "hash": "1d6e8f16ec6562bf883eb06c582223b3760f83bf72c4a72b58f221a07e3a08a3"
      }
    }
  },
  "nbformat": 4,
  "nbformat_minor": 0
}
